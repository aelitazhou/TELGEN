{
 "cells": [
  {
   "cell_type": "markdown",
   "id": "23efc100",
   "metadata": {},
   "source": [
    "## generate waxman testing dataset for TELGEN"
   ]
  },
  {
   "cell_type": "code",
   "execution_count": 1,
   "id": "c613b1ca-4366-4c13-b0d4-47e581195d5b",
   "metadata": {
    "tags": []
   },
   "outputs": [],
   "source": [
    "from solver.linprog import linprog\n",
    "from tqdm import tqdm\n",
    "\n",
    "import gzip\n",
    "import pickle\n",
    "import torch\n",
    "from scipy.linalg import LinAlgWarning\n",
    "from scipy.optimize._optimize import OptimizeWarning\n",
    "# from scipy.optimize import OptimizeWarning\n",
    "import warnings\n",
    "import numpy as np\n",
    "from functools import partial\n",
    "import random\n",
    "import pickle "
   ]
  },
  {
   "cell_type": "code",
   "execution_count": 2,
   "id": "ca5baa7a-a9fa-41b9-aa05-755f29c333b1",
   "metadata": {
    "tags": []
   },
   "outputs": [],
   "source": [
    "root = 'raw/'"
   ]
  },
  {
   "cell_type": "markdown",
   "id": "47db0a02",
   "metadata": {},
   "source": [
    "### Resource Allocation"
   ]
  },
  {
   "cell_type": "markdown",
   "id": "aa06ef7e",
   "metadata": {},
   "source": [
    "#### input: for one graph   \n",
    "#### G(V, E, c): random graph (strongly connected)\n",
    "#### (s, t, d) \\in [S, T, D]  \n",
    "#### for every (s, t, d), there is a set p \\in Pd (k-shortest path algorithm (4/5/6))"
   ]
  },
  {
   "cell_type": "code",
   "execution_count": 3,
   "id": "d823c29a",
   "metadata": {},
   "outputs": [],
   "source": [
    "import networkx as nx\n",
    "import matplotlib.pyplot as plt"
   ]
  },
  {
   "cell_type": "markdown",
   "id": "99c486ae",
   "metadata": {},
   "source": [
    "### generate and save connected and directed waxman graph different nodes and p\n",
    "### generate capacities for these graphs"
   ]
  },
  {
   "cell_type": "code",
   "execution_count": 4,
   "id": "f41fe999",
   "metadata": {},
   "outputs": [
    {
     "name": "stdout",
     "output_type": "stream",
     "text": [
      "Strongly connected: False\n",
      "# of nodes and edges, beta: 2000 10244 0.03\n",
      "Strongly connected component: True\n",
      "# of nodes and edges, beta: 1983 10242 0.03\n",
      "Add capacity to one edge first: 5122\n",
      "----------------------------------------\n",
      "Strongly connected: False\n",
      "# of nodes and edges, beta: 3000 15058 0.02\n",
      "Strongly connected component: True\n",
      "# of nodes and edges, beta: 2969 15056 0.02\n",
      "Add capacity to one edge first: 7529\n",
      "----------------------------------------\n",
      "Strongly connected: False\n",
      "# of nodes and edges, beta: 4000 19868 0.015\n",
      "Strongly connected component: True\n",
      "# of nodes and edges, beta: 3932 19862 0.015\n",
      "Add capacity to one edge first: 9934\n",
      "----------------------------------------\n",
      "Strongly connected: False\n",
      "# of nodes and edges, beta: 5000 20888 0.01\n",
      "Strongly connected component: True\n",
      "# of nodes and edges, beta: 4888 20884 0.01\n",
      "Add capacity to one edge first: 10444\n",
      "----------------------------------------\n"
     ]
    }
   ],
   "source": [
    "np.random.seed(2024)\n",
    "\n",
    "def generate_random_capacities(graph):\n",
    "    for u, v in graph.edges():\n",
    "        # Generate a random capacity for the edge (u, v)\n",
    "        capacity = random.uniform(1000, 5000)  # Adjust the range as needed\n",
    "        # Assign the capacity as an attribute to the edge\n",
    "        graph[u][v]['capacity'] = capacity\n",
    "        \n",
    "        \n",
    "# generate a directed waxman graph\n",
    "num_p = [(2000, 0.03), (3000, 0.02), (4000, 0.015), (5000, 0.01)]\n",
    "\n",
    "for n in num_p:\n",
    "    # Generate an waxman random graph\n",
    "    waxman_graph = nx.waxman_graph(n[0], n[1], seed=2024)\n",
    "\n",
    "    # Generate capacity for this graph\n",
    "    generate_random_capacities(waxman_graph)\n",
    "    Capacity = {}\n",
    "    for u, v in waxman_graph.edges():\n",
    "        Capacity[(u, v)] = waxman_graph[u][v]['capacity']\n",
    "    \n",
    "    G = waxman_graph.to_directed()\n",
    "    print('Strongly connected:', nx.is_strongly_connected(G))\n",
    "    print('# of nodes and edges, beta:', G.number_of_nodes(), G.number_of_edges(), n[1]) \n",
    "    \n",
    "    cc = list(sorted(nx.strongly_connected_components(G), key=len, reverse=True)[:1][0])\n",
    "    G_sub = G.subgraph(cc)\n",
    "    print('Strongly connected component:', nx.is_strongly_connected(G_sub))\n",
    "    print('# of nodes and edges, beta:', G_sub.number_of_nodes(), G_sub.number_of_edges(), n[1]) \n",
    "    \n",
    "    # Clean node and edge attributes to ensure they are GraphML-compatible\n",
    "    for node, data in G_sub.nodes(data=True):\n",
    "        for key, value in list(data.items()):\n",
    "            if not isinstance(value, (str, int, float)):\n",
    "                data[key] = str(value)\n",
    "    for u, v, data in G_sub.edges(data=True):\n",
    "        for key, value in list(data.items()):\n",
    "            if not isinstance(value, (str, int, float)):\n",
    "                data[key] = str(value)\n",
    "\n",
    "    nx.write_graphml(G_sub, root+'waxman_graph/waxman_graph_' + str(n[0]) + 'n_' + str(n[1]) + 'p.graphml')\n",
    "    \n",
    "    with open(root+'waxman_graph/Edge_C_' + str(n[0]) + 'n_' + str(n[1]) + 'p.pkl', 'wb') as f:\n",
    "        pickle.dump(Capacity, f)\n",
    "    print('Add capacity to one edge first:', len(Capacity.keys()))\n",
    "    \n",
    "    print('----------------------------------------')"
   ]
  },
  {
   "cell_type": "markdown",
   "id": "7e86d830",
   "metadata": {},
   "source": [
    "### generate k-shortest path"
   ]
  },
  {
   "cell_type": "code",
   "execution_count": 5,
   "id": "35229b88",
   "metadata": {},
   "outputs": [],
   "source": [
    "from itertools import islice\n",
    "def k_shortest_paths(G, source, target, k, weight=None):\n",
    "    return list(islice(nx.shortest_simple_paths(G, source, target, weight=weight), k))"
   ]
  },
  {
   "cell_type": "markdown",
   "id": "a2d1d42c",
   "metadata": {},
   "source": [
    "### Read all graphs and their capacities and load as a group"
   ]
  },
  {
   "cell_type": "code",
   "execution_count": 6,
   "id": "ab660d25",
   "metadata": {},
   "outputs": [
    {
     "name": "stdout",
     "output_type": "stream",
     "text": [
      "Graph info 1983 10242\n",
      "Connected: True\n",
      "Len capacity keys: 5122\n",
      "After adding Capacity info 1983 10242\n",
      "Connected: True\n",
      "-------------------------------------\n",
      "Graph info 2969 15056\n",
      "Connected: True\n",
      "Len capacity keys: 7529\n",
      "After adding Capacity info 2969 15056\n",
      "Connected: True\n",
      "-------------------------------------\n",
      "Graph info 3932 19862\n",
      "Connected: True\n",
      "Len capacity keys: 9934\n",
      "After adding Capacity info 3932 19862\n",
      "Connected: True\n",
      "-------------------------------------\n",
      "Graph info 4888 20884\n",
      "Connected: True\n",
      "Len capacity keys: 10444\n",
      "After adding Capacity info 4888 20884\n",
      "Connected: True\n",
      "-------------------------------------\n"
     ]
    }
   ],
   "source": [
    "#### select graphs ####\n",
    "num_p = [(2000, 0.03), (3000, 0.02), (4000, 0.015), (5000, 0.01)] # number of nodes and beta value for generating waxman graph\n",
    "\n",
    "ran_group = []\n",
    "ran_group_noC = []\n",
    "for n in num_p:\n",
    "\n",
    "    G = nx.read_graphml(root+'waxman_graph/waxman_graph_' + str(n[0]) + 'n_' + str(n[1]) + 'p.graphml')\n",
    "    ran_group_noC.append(G)\n",
    "    print('Graph info', G.number_of_nodes(), G.number_of_edges())\n",
    "    print('Connected:', nx.is_strongly_connected(G))\n",
    "    with open(root+'waxman_graph/Edge_C_' + str(n[0]) + 'n_' + str(n[1]) + 'p.pkl', 'rb') as f:\n",
    "        Edge_C = pickle.load(f)\n",
    "    print('Len capacity keys:', len(Edge_C.keys()))\n",
    "    g_test = nx.DiGraph(G)\n",
    "    for u, v in G.edges():\n",
    "        if (int(u), int(v)) in Edge_C.keys():\n",
    "            g_test.add_edge(u, v, weight=Edge_C[(int(u), int(v))])\n",
    "        else:\n",
    "            g_test.add_edge(u, v, weight=Edge_C[(int(v), int(u))])\n",
    "    ran_group.append(g_test)\n",
    "    print('After adding Capacity info', g_test.number_of_nodes(), g_test.number_of_edges())\n",
    "    print('Connected:', nx.is_strongly_connected(g_test))\n",
    "    print('-------------------------------------')"
   ]
  },
  {
   "cell_type": "markdown",
   "id": "b4d886e6",
   "metadata": {},
   "source": [
    "## function define"
   ]
  },
  {
   "cell_type": "code",
   "execution_count": 7,
   "id": "f5cefbfc",
   "metadata": {},
   "outputs": [],
   "source": [
    "# G: G(V, E, C)                           nx.weighted.graph\n",
    "# STD: demands align with ST pairs        list[([s1, t1], dmd1), ([s2, t2], dmd2),...], (string, int)\n",
    "# Pd: set of paths for every st pair      dict{[s1, t1]: [([path1], cost1), ([path2], cost2)...], [s2, t2]...}\n",
    "# # of std pairs = # of keys in Pd\n",
    "# k: k shortest path for every (s, t, d) tuple\n",
    "\n",
    "def generate_reallocation(G, STD, Pd, k):\n",
    "    \n",
    "    # constraint 1\n",
    "    A1 = []\n",
    "    for i in range(len(STD)):\n",
    "        a = np.zeros(len(STD)*k)\n",
    "        a[k*i: k*i+k] = 1\n",
    "        A1.append(a)\n",
    "    A1 = np.array(A1)\n",
    "    b1 = np.ones(len(STD))\n",
    "\n",
    "    # constrain 2\n",
    "    edges_list = list(G.edges())\n",
    "    A2 = np.zeros((G.number_of_edges(), len(STD)*k))\n",
    "\n",
    "    for i in range(len(STD)):\n",
    "        paths = Pd[tuple(STD[i][0])] # possible paths\n",
    "        for j in range(k):\n",
    "            p = paths[j]   # path[j] is the path\n",
    "            for n in range(len(p)-1):\n",
    "                if (p[n], p[n+1]) in edges_list:\n",
    "                    A2[edges_list.index((p[n], p[n+1]))][k*i+j] = STD[i][1]\n",
    "                else:\n",
    "                    continue  \n",
    "    b2 = np.array(list(nx.get_edge_attributes(G,'weight').values()))\n",
    "    zero_row_indices = np.where(A2.any(axis=1)==0)[0]\n",
    "    A2 = np.delete(A2, zero_row_indices, axis=0)\n",
    "    b2 = np.delete(b2, zero_row_indices, axis=0)\n",
    "\n",
    "    for i in range(A2.shape[0]):\n",
    "        A2[i] = A2[i]/b2[i]\n",
    "        b2[i] = b2[i]/b2[i]\n",
    "    \n",
    "    # obj\n",
    "    c = -1*np.concatenate([np.ones(k)*STD[i][1] for i in range(len(STD))])\n",
    "        \n",
    "    return A1, b1, A2, b2, c"
   ]
  },
  {
   "cell_type": "markdown",
   "id": "40b7ecac",
   "metadata": {},
   "source": [
    "## test dataset generation"
   ]
  },
  {
   "cell_type": "code",
   "execution_count": 8,
   "id": "3ecc353b",
   "metadata": {},
   "outputs": [
    {
     "name": "stdout",
     "output_type": "stream",
     "text": [
      "      message: Optimization terminated successfully.\n",
      "      success: True\n",
      "       status: 0\n",
      "          fun: -27187.50600503203\n",
      "            x: [ 1.918e-01  1.965e-01 ...  1.399e-01  1.327e-01]\n",
      "          nit: 14\n",
      " intermediate: []\n",
      "      message: Optimization terminated successfully.\n",
      "      success: True\n",
      "       status: 0\n",
      "          fun: -33665.67538450239\n",
      "            x: [ 3.964e-01  1.481e-01 ...  2.670e-01  2.213e-01]\n",
      "          nit: 9\n",
      " intermediate: []\n",
      "      message: Optimization terminated successfully.\n",
      "      success: True\n",
      "       status: 0\n",
      "          fun: -25084.20754637521\n",
      "            x: [ 2.496e-01  2.441e-01 ...  2.864e-01  1.460e-01]\n",
      "          nit: 8\n",
      " intermediate: []\n",
      "      message: Optimization terminated successfully.\n",
      "      success: True\n",
      "       status: 0\n",
      "          fun: -27940.66804305656\n",
      "            x: [ 1.134e-01  1.513e-01 ...  2.064e-01  2.489e-01]\n",
      "          nit: 8\n",
      " intermediate: []\n",
      "Graph info and average time used: (1983, 10242, 0.010365962982177734)\n",
      "Graph info and average time used: (2969, 15056, 0.006035566329956055)\n",
      "Graph info and average time used: (3932, 19862, 0.005319118499755859)\n",
      "Graph info and average time used: (4888, 20884, 0.005995035171508789)\n"
     ]
    }
   ],
   "source": [
    "### gen train ####\n",
    "import time\n",
    "warnings.filterwarnings(\"error\")\n",
    "\n",
    "random.seed(2024)\n",
    "np.random.seed(2024)\n",
    "\n",
    "\n",
    "pkg_idx = 0              # instance index for your data generation\n",
    "success_cnt = 0\n",
    "fail_cnt = 0\n",
    "bounds = (0., 1.)\n",
    "\n",
    "max_iter = 15000\n",
    "num = 1\n",
    "\n",
    "k = 4                    # k-shortest path\n",
    "max_d = 5000             # demand max value\n",
    "min_d = 1000             # demand min value\n",
    "\n",
    "number_of_st = 10        # number of st pairs\n",
    "\n",
    "graph_info = []\n",
    "for g in range(len(ran_group)):\n",
    "    stds = []\n",
    "    ips = []\n",
    "    success_cnt = 0\n",
    "    times = []\n",
    "    for n in range(num+2000): # in case failsure case\n",
    "        \n",
    "        # std\n",
    "        std = []\n",
    "        Pd = {}\n",
    "        count_std = 0\n",
    "        while count_std != number_of_st:\n",
    "            st = np.random.choice(ran_group[g].nodes(), 2, replace=False)\n",
    "            d = random.uniform(min_d, max_d)\n",
    "            k_paths = k_shortest_paths(ran_group_noC[g], st[0], st[1], k=k)\n",
    "            if len(k_paths) != k:\n",
    "                continue\n",
    "            else:\n",
    "                Pd[(st[0], st[1])] = k_paths\n",
    "                std.append((st, d))\n",
    "                count_std += 1\n",
    "\n",
    "        A1, b1, A2, b2, c = generate_reallocation(ran_group[g], std, Pd, k)\n",
    "        A = np.vstack([A1, A2])\n",
    "        b = np.hstack([b1, b2])\n",
    "        \n",
    "        n_time = time.time()\n",
    "        try:\n",
    "            A_eq = None\n",
    "            b_eq = None\n",
    "            A_ub = A\n",
    "            b_ub = b\n",
    "            res = linprog(c, A_ub=A_ub, b_ub=b_ub, A_eq=A_eq, b_eq=b_eq, bounds=bounds, \n",
    "                          method='interior-point')\n",
    "            times.append(time.time()-n_time)\n",
    "            print(res)\n",
    "\n",
    "        except (LinAlgWarning, OptimizeWarning, AssertionError):\n",
    "            fail_cnt += 1\n",
    "            continue\n",
    "        else:\n",
    "            if res.success and not np.isnan(res.fun):\n",
    "                ips.append((torch.from_numpy(A).to(torch.float), torch.from_numpy(b).to(torch.float), torch.from_numpy(c).to(torch.float)))\n",
    "                success_cnt += 1\n",
    "                stds.append(std)\n",
    "        if success_cnt == num:\n",
    "            break\n",
    "\n",
    "    with open(root+'/raw/instance_'+str(pkg_idx)+'_stds.pkl','wb') as f:\n",
    "        pickle.dump(stds, f)\n",
    "    with gzip.open(f'{root}/raw/instance_{pkg_idx}.pkl.gz', \"wb\") as file:\n",
    "        pickle.dump(ips, file)\n",
    "    pkg_idx += 1\n",
    "    \n",
    "    graph_info.append((ran_group[g].number_of_nodes(), ran_group[g].number_of_edges(), sum(times)/len(times)))\n",
    "\n",
    "np.save(root+'/raw/waxman_test_'+str(number_of_st)+'st_info', graph_info)\n",
    "for i in graph_info:\n",
    "    print('Graph info and average time used:', i)\n",
    "\n",
    "    \n",
    "warnings.resetwarnings()"
   ]
  },
  {
   "cell_type": "code",
   "execution_count": null,
   "id": "d93f01e6",
   "metadata": {},
   "outputs": [],
   "source": []
  }
 ],
 "metadata": {
  "kernelspec": {
   "display_name": "ipmgnn",
   "language": "python",
   "name": "ipmgnn"
  },
  "language_info": {
   "codemirror_mode": {
    "name": "ipython",
    "version": 3
   },
   "file_extension": ".py",
   "mimetype": "text/x-python",
   "name": "python",
   "nbconvert_exporter": "python",
   "pygments_lexer": "ipython3",
   "version": "3.10.13"
  }
 },
 "nbformat": 4,
 "nbformat_minor": 5
}
