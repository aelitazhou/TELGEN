{
 "cells": [
  {
   "cell_type": "code",
   "execution_count": 1,
   "id": "82db4f34",
   "metadata": {},
   "outputs": [],
   "source": [
    "import os\n",
    "import argparse\n",
    "from ml_collections import ConfigDict\n",
    "import yaml\n",
    "import time\n",
    "\n",
    "import copy\n",
    "import numpy as np\n",
    "import torch\n",
    "from torch import optim\n",
    "from torch.utils.data import DataLoader\n",
    "from torch_geometric.transforms import Compose\n",
    "from tqdm import tqdm\n",
    "import wandb\n",
    "import numpy as np\n",
    "import random\n",
    "\n",
    "from data.data_preprocess import HeteroAddLaplacianEigenvectorPE, SubSample, SubSample_pad\n",
    "from data.dataset import LPDataset\n",
    "from data.utils import args_set_bool, collate_fn_ip\n",
    "from models.hetero_gnn import TripartiteHeteroGNN, TripartiteHeteroGNN_, TripartiteHeteroGNN_new, BipartiteHeteroGNN\n",
    "from trainer_ import Trainer"
   ]
  },
  {
   "cell_type": "code",
   "execution_count": 2,
   "id": "42fecdf2",
   "metadata": {},
   "outputs": [
    {
     "name": "stdout",
     "output_type": "stream",
     "text": [
      "wandb not running\n"
     ]
    }
   ],
   "source": [
    "if wandb.run is not None:\n",
    "    print('wandb running')\n",
    "else:\n",
    "    print('wandb not running')"
   ]
  },
  {
   "cell_type": "code",
   "execution_count": 3,
   "id": "bbe7ab80",
   "metadata": {},
   "outputs": [],
   "source": [
    "# 2*ipm_steps/num_conv_layers = outer loop\n",
    "# num_conv_layers = inner loop\n",
    "var_dict = {\n",
    "            \"weight_decay\": 0,\n",
    "            \"micro_batch\": 16,         # oringal: 4, \n",
    "            \"batchsize\": 32,          # oringal: 128,\n",
    "            \"hidden\": 180, \n",
    "            \"num_conv_layers\": 2,     # oringinal: 8,  \n",
    "            \"num_pred_layers\": 4, \n",
    "            \"num_mlp_layers\": 4, \n",
    "#             \"share_lin_weight\": 'false', \n",
    "            \"share_lin_weight\": True, \n",
    "#             \"conv_sequence\": 'ceov', \n",
    "            \"conv_sequence\": 'cov', \n",
    "            \"loss_weight_x\": 1.0, \n",
    "            \"loss_weight_obj\": 3.43, \n",
    "            \"loss_weight_cons\": 5.8,     # oringinal: 5.8\n",
    "            \"losstype\": 'l2',\n",
    "            \"runs\": 3,\n",
    "            \"lappe\": 0, \n",
    "            \"conv\": 'gcnconv', \n",
    "            \"epoch\": 50,    # oringal: 500\n",
    "#             \"ipm_alpha\": 0.35,\n",
    "            \"ipm_alpha\": 0.7,\n",
    "    \n",
    "            \"ipm_steps\": 16,       # 8 for supervising every mlp layer, 1 for supervising last layer\n",
    "    \n",
    "            \"dropout\": 0,\n",
    "#             \"share_conv_weight\": 'false',        # default: false   \n",
    "            \"share_conv_weight\": True,        # default: false  \n",
    "#             \"use_norm\": 'true',\n",
    "#             \"use_res\": 'false',  \n",
    "            \"use_norm\": True,\n",
    "            \"use_res\": True,  \n",
    "            \"lr\": 1.e-5,     # original: 1.e-3\n",
    "            \"weight_decay\": 0\n",
    "            }"
   ]
  },
  {
   "cell_type": "code",
   "execution_count": 4,
   "id": "3f6f689e",
   "metadata": {},
   "outputs": [],
   "source": [
    "# wandb.init(project='reallocation_harp',\n",
    "#            config=var_dict,\n",
    "#            entity=\"fzhou\")"
   ]
  },
  {
   "cell_type": "code",
   "execution_count": 5,
   "id": "780ea6e2",
   "metadata": {},
   "outputs": [
    {
     "name": "stdout",
     "output_type": "stream",
     "text": [
      "wandb not running\n"
     ]
    }
   ],
   "source": [
    "if wandb.run is not None:\n",
    "    print('wandb running')\n",
    "else:\n",
    "    print('wandb not running')"
   ]
  },
  {
   "cell_type": "code",
   "execution_count": 6,
   "id": "aee8871d",
   "metadata": {},
   "outputs": [],
   "source": [
    "# -Ax+b<=-1\n",
    "# Use TripartitionGNN\n",
    "\n",
    "trainleq1_ins = 'trainleq1_abilene' \n",
    "validleq1_ins = 'validleq1_abilene'\n",
    "testleq1_ins = 'testleq1_abilene'\n",
    "ipm = 16\n",
    "\n",
    "testleq1_dataset = LPDataset('raw',\n",
    "                    extra_path=f'{1}restarts_'\n",
    "                                     f'{0}lap_'\n",
    "                                     f'{ipm}steps'\n",
    "                                     f'{\"_upper_\" + str(testleq1_ins)}',\n",
    "                    upper_bound=1,\n",
    "                    rand_starts=1,\n",
    "                    pre_transform=Compose([HeteroAddLaplacianEigenvectorPE(k=0),\n",
    "                                                 SubSample(ipm)]))\n",
    "\n",
    "test_loader = DataLoader(testleq1_dataset,\n",
    "                        batch_size=var_dict['batchsize'],\n",
    "                        shuffle=False,\n",
    "                        num_workers=1,\n",
    "                        collate_fn=collate_fn_ip)"
   ]
  },
  {
   "cell_type": "code",
   "execution_count": 7,
   "id": "eba9702c",
   "metadata": {},
   "outputs": [
    {
     "data": {
      "text/plain": [
       "(57.5, 16)"
      ]
     },
     "execution_count": 7,
     "metadata": {},
     "output_type": "execute_result"
    }
   ],
   "source": [
    "len(testleq1_dataset)/var_dict[\"batchsize\"], len(testleq1_dataset)%var_dict[\"batchsize\"]"
   ]
  },
  {
   "cell_type": "code",
   "execution_count": 8,
   "id": "961d9407",
   "metadata": {},
   "outputs": [
    {
     "data": {
      "text/plain": [
       "'cuda'"
      ]
     },
     "execution_count": 8,
     "metadata": {},
     "output_type": "execute_result"
    }
   ],
   "source": [
    "device = 'cuda' if torch.cuda.is_available() else 'cpu'\n",
    "device"
   ]
  },
  {
   "cell_type": "code",
   "execution_count": 9,
   "id": "f6f0a070",
   "metadata": {},
   "outputs": [
    {
     "name": "stdout",
     "output_type": "stream",
     "text": [
      "num_1stcon, num_2ndcon: 132 30\n",
      "a_row_idx torch.Size([960])\n",
      "a_col_idx torch.Size([33792])\n",
      "a_row, a_col, a_val torch.Size([192624]) torch.Size([192624]) torch.Size([192624])\n",
      "keep_2ndcon torch.Size([158832])\n",
      "a_row, a_col, a_val torch.Size([158832]) torch.Size([158832]) torch.Size([158832])\n",
      "remove_lastcol torch.Size([157872])\n",
      "a_row, a_col, a_val torch.Size([157872]) torch.Size([157872]) torch.Size([157872])\n",
      "vals[:, -1] torch.Size([33824])\n",
      "MLU tensor([4.3711, 4.3512, 4.1295, 4.2760, 4.3236, 4.3565, 4.2597, 4.2759, 4.2671,\n",
      "        4.3437, 4.3711, 4.1916, 4.0941, 4.0040, 4.0322, 4.2008, 4.3084, 4.2747,\n",
      "        4.2997, 4.3262, 4.6239, 4.2872, 4.2540, 4.2852, 4.1628, 4.0931, 3.9615,\n",
      "        3.7897, 3.8966, 4.0029, 3.8785, 3.9339])\n",
      "OPT tensor([0.3501, 0.3500, 0.3292, 0.3380, 0.3406, 0.3416, 0.3367, 0.3415, 0.3416,\n",
      "        0.3462, 0.3525, 0.3440, 0.3392, 0.3289, 0.3373, 0.3407, 0.3567, 0.3466,\n",
      "        0.3402, 0.3489, 0.3638, 0.3443, 0.3441, 0.3475, 0.3418, 0.3309, 0.3239,\n",
      "        0.3104, 0.3122, 0.3169, 0.3162, 0.3169], device='cuda:0')\n",
      "norm MLU tensor([12.4870, 12.4321, 12.5457, 12.6491, 12.6957, 12.7540, 12.6510, 12.5228,\n",
      "        12.4915, 12.5474, 12.3992, 12.1861, 12.0713, 12.1745, 11.9529, 12.3300,\n",
      "        12.0780, 12.3330, 12.6377, 12.4002, 12.7100, 12.4517, 12.3621, 12.3304,\n",
      "        12.1799, 12.3702, 12.2313, 12.2092, 12.4803, 12.6331, 12.2645, 12.4125],\n",
      "       device='cuda:0')\n",
      "---------------------\n",
      "num_1stcon, num_2ndcon: 132 30\n",
      "a_row_idx torch.Size([960])\n",
      "a_col_idx torch.Size([33792])\n",
      "a_row, a_col, a_val torch.Size([191244]) torch.Size([191244]) torch.Size([191244])\n",
      "keep_2ndcon torch.Size([157452])\n",
      "a_row, a_col, a_val torch.Size([157452]) torch.Size([157452]) torch.Size([157452])\n",
      "remove_lastcol torch.Size([156492])\n",
      "a_row, a_col, a_val torch.Size([156492]) torch.Size([156492]) torch.Size([156492])\n",
      "vals[:, -1] torch.Size([33824])\n",
      "MLU tensor([4.1880, 4.1669, 4.2100, 4.1021, 4.0855, 4.1618, 4.4309, 4.2687, 4.3640,\n",
      "        4.4423, 4.3920, 4.4946, 4.1249, 4.2664, 4.0071, 4.0386, 3.9308, 4.2796,\n",
      "        4.0872, 4.0969, 4.0351, 3.9808, 3.8846, 3.8835,    nan, 4.7251, 3.8555,\n",
      "        3.7204, 3.7054, 3.6151, 3.8435, 3.6202])\n",
      "OPT tensor([0.3426, 0.3438, 0.3458, 0.3458, 0.3388, 0.3466, 0.3654, 0.3384, 0.3459,\n",
      "        0.3543, 0.3506, 0.3550, 0.3332, 0.3398, 0.3205, 0.3270, 0.3184, 0.3312,\n",
      "        0.3263, 0.3256, 0.3296, 0.3319, 0.3278, 0.3265, 0.7050, 0.4455, 0.3168,\n",
      "        0.3122, 0.3026, 0.2971, 0.3135, 0.2973], device='cuda:0')\n",
      "norm MLU tensor([12.2249, 12.1218, 12.1745, 11.8644, 12.0594, 12.0069, 12.1278, 12.6152,\n",
      "        12.6163, 12.5367, 12.5260, 12.6617, 12.3796, 12.5569, 12.5031, 12.3517,\n",
      "        12.3459, 12.9212, 12.5274, 12.5830, 12.2410, 11.9949, 11.8494, 11.8942,\n",
      "            nan, 10.6069, 12.1690, 11.9177, 12.2468, 12.1690, 12.2592, 12.1751],\n",
      "       device='cuda:0')\n",
      "---------------------\n",
      "num_1stcon, num_2ndcon: 132 30\n",
      "a_row_idx torch.Size([960])\n",
      "a_col_idx torch.Size([33792])\n",
      "a_row, a_col, a_val torch.Size([190300]) torch.Size([190300]) torch.Size([190300])\n",
      "keep_2ndcon torch.Size([156508])\n",
      "a_row, a_col, a_val torch.Size([156508]) torch.Size([156508]) torch.Size([156508])\n"
     ]
    },
    {
     "ename": "KeyboardInterrupt",
     "evalue": "",
     "output_type": "error",
     "traceback": [
      "\u001b[0;31m---------------------------------------------------------------------------\u001b[0m",
      "\u001b[0;31mKeyboardInterrupt\u001b[0m                         Traceback (most recent call last)",
      "Cell \u001b[0;32mIn[9], line 49\u001b[0m\n\u001b[1;32m     46\u001b[0m k \u001b[38;5;241m=\u001b[39m \u001b[38;5;241m8\u001b[39m              \u001b[38;5;66;03m# k-shortest path\u001b[39;00m\n\u001b[1;32m     47\u001b[0m \u001b[38;5;28;01mwith\u001b[39;00m torch\u001b[38;5;241m.\u001b[39mno_grad():\n\u001b[0;32m---> 49\u001b[0m     objs_gap, cons_gap, objs_nocgap, norm_mlus, mlus \u001b[38;5;241m=\u001b[39m \u001b[43mtrainer\u001b[49m\u001b[38;5;241;43m.\u001b[39;49m\u001b[43meval_metrics_harpleq1\u001b[49m\u001b[43m(\u001b[49m\u001b[43mk\u001b[49m\u001b[43m,\u001b[49m\u001b[43m \u001b[49m\u001b[43mnum_pair\u001b[49m\u001b[43m,\u001b[49m\u001b[43m \u001b[49m\u001b[43mvar_dict\u001b[49m\u001b[43m[\u001b[49m\u001b[38;5;124;43m'\u001b[39;49m\u001b[38;5;124;43mbatchsize\u001b[39;49m\u001b[38;5;124;43m'\u001b[39;49m\u001b[43m]\u001b[49m\u001b[43m,\u001b[49m\u001b[43m \u001b[49m\u001b[43mtest_loader\u001b[49m\u001b[43m,\u001b[49m\u001b[43m \u001b[49m\u001b[43mmodel\u001b[49m\u001b[43m)\u001b[49m\n\u001b[1;32m     51\u001b[0m test_objgap \u001b[38;5;241m=\u001b[39m objs_gap[:, \u001b[38;5;241m-\u001b[39m\u001b[38;5;241m1\u001b[39m]\u001b[38;5;241m.\u001b[39mmean()\n\u001b[1;32m     52\u001b[0m test_consgap \u001b[38;5;241m=\u001b[39m cons_gap[:, \u001b[38;5;241m-\u001b[39m\u001b[38;5;241m1\u001b[39m]\u001b[38;5;241m.\u001b[39mmean()\n",
      "File \u001b[0;32m~/anaconda3/envs/ipmgnn/lib/python3.10/site-packages/torch/utils/_contextlib.py:115\u001b[0m, in \u001b[0;36mcontext_decorator.<locals>.decorate_context\u001b[0;34m(*args, **kwargs)\u001b[0m\n\u001b[1;32m    112\u001b[0m \u001b[38;5;129m@functools\u001b[39m\u001b[38;5;241m.\u001b[39mwraps(func)\n\u001b[1;32m    113\u001b[0m \u001b[38;5;28;01mdef\u001b[39;00m \u001b[38;5;21mdecorate_context\u001b[39m(\u001b[38;5;241m*\u001b[39margs, \u001b[38;5;241m*\u001b[39m\u001b[38;5;241m*\u001b[39mkwargs):\n\u001b[1;32m    114\u001b[0m     \u001b[38;5;28;01mwith\u001b[39;00m ctx_factory():\n\u001b[0;32m--> 115\u001b[0m         \u001b[38;5;28;01mreturn\u001b[39;00m \u001b[43mfunc\u001b[49m\u001b[43m(\u001b[49m\u001b[38;5;241;43m*\u001b[39;49m\u001b[43margs\u001b[49m\u001b[43m,\u001b[49m\u001b[43m \u001b[49m\u001b[38;5;241;43m*\u001b[39;49m\u001b[38;5;241;43m*\u001b[39;49m\u001b[43mkwargs\u001b[49m\u001b[43m)\u001b[49m\n",
      "File \u001b[0;32m/mnt/data/fzhou/TELGEN_/trainer.py:1190\u001b[0m, in \u001b[0;36mTrainer.eval_metrics_harpleq1\u001b[0;34m(self, k, num_pair, batchsize, dataloader, model)\u001b[0m\n\u001b[1;32m   1188\u001b[0m \u001b[38;5;28mprint\u001b[39m(\u001b[38;5;124m'\u001b[39m\u001b[38;5;124ma_row, a_col, a_val\u001b[39m\u001b[38;5;124m'\u001b[39m, a_row\u001b[38;5;241m.\u001b[39mshape, a_col\u001b[38;5;241m.\u001b[39mshape, a_val\u001b[38;5;241m.\u001b[39mshape)\n\u001b[1;32m   1189\u001b[0m \u001b[38;5;66;03m#print(a_row, a_col)\u001b[39;00m\n\u001b[0;32m-> 1190\u001b[0m remove_lastcol \u001b[38;5;241m=\u001b[39m torch\u001b[38;5;241m.\u001b[39mcat([torch\u001b[38;5;241m.\u001b[39mwhere(a_col\u001b[38;5;241m==\u001b[39midx)[\u001b[38;5;241m0\u001b[39m] \u001b[38;5;28;01mfor\u001b[39;00m idx \u001b[38;5;129;01min\u001b[39;00m a_col_idx])\n\u001b[1;32m   1191\u001b[0m \u001b[38;5;28mprint\u001b[39m(\u001b[38;5;124m'\u001b[39m\u001b[38;5;124mremove_lastcol\u001b[39m\u001b[38;5;124m'\u001b[39m, remove_lastcol\u001b[38;5;241m.\u001b[39mshape)\n\u001b[1;32m   1192\u001b[0m a_row \u001b[38;5;241m=\u001b[39m a_row[remove_lastcol]\n",
      "File \u001b[0;32m/mnt/data/fzhou/TELGEN_/trainer.py:1190\u001b[0m, in \u001b[0;36m<listcomp>\u001b[0;34m(.0)\u001b[0m\n\u001b[1;32m   1188\u001b[0m \u001b[38;5;28mprint\u001b[39m(\u001b[38;5;124m'\u001b[39m\u001b[38;5;124ma_row, a_col, a_val\u001b[39m\u001b[38;5;124m'\u001b[39m, a_row\u001b[38;5;241m.\u001b[39mshape, a_col\u001b[38;5;241m.\u001b[39mshape, a_val\u001b[38;5;241m.\u001b[39mshape)\n\u001b[1;32m   1189\u001b[0m \u001b[38;5;66;03m#print(a_row, a_col)\u001b[39;00m\n\u001b[0;32m-> 1190\u001b[0m remove_lastcol \u001b[38;5;241m=\u001b[39m torch\u001b[38;5;241m.\u001b[39mcat([\u001b[43mtorch\u001b[49m\u001b[38;5;241;43m.\u001b[39;49m\u001b[43mwhere\u001b[49m\u001b[43m(\u001b[49m\u001b[43ma_col\u001b[49m\u001b[38;5;241;43m==\u001b[39;49m\u001b[43midx\u001b[49m\u001b[43m)\u001b[49m[\u001b[38;5;241m0\u001b[39m] \u001b[38;5;28;01mfor\u001b[39;00m idx \u001b[38;5;129;01min\u001b[39;00m a_col_idx])\n\u001b[1;32m   1191\u001b[0m \u001b[38;5;28mprint\u001b[39m(\u001b[38;5;124m'\u001b[39m\u001b[38;5;124mremove_lastcol\u001b[39m\u001b[38;5;124m'\u001b[39m, remove_lastcol\u001b[38;5;241m.\u001b[39mshape)\n\u001b[1;32m   1192\u001b[0m a_row \u001b[38;5;241m=\u001b[39m a_row[remove_lastcol]\n",
      "\u001b[0;31mKeyboardInterrupt\u001b[0m: "
     ]
    }
   ],
   "source": [
    "#### test exact number of iteration model\n",
    "\n",
    "seed = 2026      # 2025, 2026, 2027, 2028 \n",
    "torch.manual_seed(seed)\n",
    "torch.cuda.manual_seed(seed)\n",
    "torch.cuda.manual_seed_all(seed)  # if you are using multi-GPU.\n",
    "np.random.seed(seed)  # Numpy module.\n",
    "random.seed(seed)  # Python random module.\n",
    "torch.manual_seed(seed)\n",
    "torch.backends.cudnn.benchmark = False\n",
    "torch.backends.cudnn.deterministic = True\n",
    "\n",
    "path = 'logs/o16i2_train_abilene_leq1_2026/run0/43_best_model.pt'\n",
    "path = 'logs/o16i2_train_abilene_leq1_2026/run0/49_model.pt'\n",
    "\n",
    "\n",
    "model = TripartiteHeteroGNN_(ipm_steps=var_dict['ipm_steps'],\n",
    "                                conv=var_dict['conv'],\n",
    "                                in_shape=2,\n",
    "                                pe_dim=var_dict['lappe'],\n",
    "                                hid_dim=var_dict['hidden'],\n",
    "                                num_conv_layers=var_dict['num_conv_layers'],\n",
    "                                num_pred_layers=var_dict['num_pred_layers'],\n",
    "                                num_mlp_layers=var_dict['num_mlp_layers'],\n",
    "                                dropout=var_dict['dropout'],\n",
    "                                share_conv_weight=var_dict['share_conv_weight'],\n",
    "                                share_lin_weight=var_dict['share_lin_weight'],\n",
    "                                use_norm=var_dict['use_norm'],\n",
    "                                use_res=var_dict['use_res'],\n",
    "                                conv_sequence=var_dict['conv_sequence']).to(device)\n",
    "\n",
    "\n",
    "trainer = Trainer(device,\n",
    "                  'primal+objgap+constraint',\n",
    "                  var_dict['losstype'],\n",
    "                  var_dict['micro_batch'],\n",
    "                  var_dict['ipm_steps'],\n",
    "                  var_dict['ipm_alpha'],\n",
    "                  loss_weight={'primal': var_dict['loss_weight_x'],\n",
    "                               'objgap': var_dict['loss_weight_obj'],\n",
    "                               'constraint': var_dict['loss_weight_cons']})\n",
    "\n",
    "model.load_state_dict(torch.load(path))\n",
    "\n",
    "num_pair = 132     # abilene (12*11, also the number of the first set of constraints Ax=1)\n",
    "k = 8              # k-shortest path\n",
    "with torch.no_grad():\n",
    "\n",
    "    objs_gap, cons_gap, objs_nocgap, norm_mlus, mlus = trainer.eval_metrics_harpleq1(k, num_pair, var_dict['batchsize'], test_loader, model)\n",
    "\n",
    "test_objgap = objs_gap[:, -1].mean()\n",
    "test_consgap = cons_gap[:, -1].mean()\n",
    "test_objgap_nocon = objs_nocgap[:, -1].mean()\n",
    "test_norm_mlu = norm_mlus[:, -1].mean()\n",
    "test_mlu = mlus[:, -1].mean()\n",
    "\n",
    "print(test_objgap, test_consgap, test_objgap_nocon, test_norm_mlu, test_mlu)"
   ]
  },
  {
   "cell_type": "code",
   "execution_count": null,
   "id": "4bede05c",
   "metadata": {},
   "outputs": [],
   "source": [
    "a.shape"
   ]
  },
  {
   "cell_type": "code",
   "execution_count": null,
   "id": "5ef5cef8",
   "metadata": {},
   "outputs": [],
   "source": [
    "A = torch.tensor([[1, 0, 0, 0, 3, 8], \n",
    "                  [0, 4, 5, 0, 0, 0], \n",
    "                  [2, 9, 7, 0, 0, 0]])\n",
    "x = torch.tensor([2, 4, 4, 3, 4, 3])"
   ]
  },
  {
   "cell_type": "code",
   "execution_count": 22,
   "id": "5605c29b",
   "metadata": {},
   "outputs": [
    {
     "data": {
      "text/plain": [
       "tensor([38, 36, 68])"
      ]
     },
     "execution_count": 22,
     "metadata": {},
     "output_type": "execute_result"
    }
   ],
   "source": [
    "torch.matmul(A, x)"
   ]
  },
  {
   "cell_type": "code",
   "execution_count": 26,
   "id": "d08319b2",
   "metadata": {},
   "outputs": [],
   "source": [
    "a_row = torch.tensor([0, 0, 0, 1, 1, 2, 2, 2])\n",
    "a_col = torch.tensor([0, 4, 5, 1, 2, 0, 1, 2])\n",
    "a_val = torch.tensor([1, 3, 8, 4, 5, 2, 9, 7])"
   ]
  },
  {
   "cell_type": "code",
   "execution_count": 27,
   "id": "ac422061",
   "metadata": {},
   "outputs": [
    {
     "data": {
      "text/plain": [
       "tensor([38, 36, 68])"
      ]
     },
     "execution_count": 27,
     "metadata": {},
     "output_type": "execute_result"
    }
   ],
   "source": [
    "from torch_scatter import scatter\n",
    "scatter(x[a_col] * a_val, a_row, reduce='sum', dim=0)"
   ]
  },
  {
   "cell_type": "code",
   "execution_count": null,
   "id": "cb81b274",
   "metadata": {},
   "outputs": [],
   "source": []
  },
  {
   "cell_type": "code",
   "execution_count": null,
   "id": "9fdd4c30",
   "metadata": {},
   "outputs": [],
   "source": []
  },
  {
   "cell_type": "code",
   "execution_count": null,
   "id": "6b032647",
   "metadata": {},
   "outputs": [],
   "source": []
  },
  {
   "cell_type": "code",
   "execution_count": null,
   "id": "9186c6d5",
   "metadata": {},
   "outputs": [],
   "source": []
  },
  {
   "cell_type": "code",
   "execution_count": null,
   "id": "449679d4",
   "metadata": {},
   "outputs": [],
   "source": [
    "# harp average loss: 1.008026 "
   ]
  },
  {
   "cell_type": "code",
   "execution_count": 18,
   "id": "27b19117",
   "metadata": {},
   "outputs": [
    {
     "data": {
      "image/png": "[encoded data removed]",
      "text/plain": [
       "<Figure size 640x480 with 1 Axes>"
      ]
     },
     "metadata": {},
     "output_type": "display_data"
    }
   ],
   "source": [
    "import matplotlib.pyplot as plt\n",
    "import numpy as np\n",
    "\n",
    "\n",
    "plt.plot(norm_mlus[:, -1])\n",
    "plt.show()"
   ]
  },
  {
   "cell_type": "code",
   "execution_count": 20,
   "id": "e869f08e",
   "metadata": {},
   "outputs": [
    {
     "data": {
      "text/plain": [
       "0.018935424737308335"
      ]
     },
     "execution_count": 20,
     "metadata": {},
     "output_type": "execute_result"
    }
   ],
   "source": [
    "34.84118151664734/1840"
   ]
  },
  {
   "cell_type": "code",
   "execution_count": null,
   "id": "279bf81c",
   "metadata": {},
   "outputs": [],
   "source": []
  },
  {
   "cell_type": "code",
   "execution_count": null,
   "id": "2337306d",
   "metadata": {},
   "outputs": [],
   "source": []
  },
  {
   "cell_type": "code",
   "execution_count": null,
   "id": "f177750e",
   "metadata": {},
   "outputs": [],
   "source": []
  },
  {
   "cell_type": "code",
   "execution_count": null,
   "id": "746cb673",
   "metadata": {},
   "outputs": [],
   "source": []
  }
 ],
 "metadata": {
  "kernelspec": {
   "display_name": "ipmgnn",
   "language": "python",
   "name": "ipmgnn"
  },
  "language_info": {
   "codemirror_mode": {
    "name": "ipython",
    "version": 3
   },
   "file_extension": ".py",
   "mimetype": "text/x-python",
   "name": "python",
   "nbconvert_exporter": "python",
   "pygments_lexer": "ipython3",
   "version": "3.10.13"
  }
 },
 "nbformat": 4,
 "nbformat_minor": 5
}
