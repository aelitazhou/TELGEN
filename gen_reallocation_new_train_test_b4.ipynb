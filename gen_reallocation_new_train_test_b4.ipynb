{
 "cells": [
  {
   "cell_type": "markdown",
   "id": "f47e1108",
   "metadata": {},
   "source": [
    "## generate b4 training dataset for TELGEN"
   ]
  },
  {
   "cell_type": "code",
   "execution_count": 1,
   "id": "c613b1ca-4366-4c13-b0d4-47e581195d5b",
   "metadata": {
    "tags": []
   },
   "outputs": [],
   "source": [
    "from solver.linprog import linprog\n",
    "from tqdm import tqdm\n",
    "\n",
    "import gzip\n",
    "import pickle\n",
    "import torch\n",
    "from scipy.linalg import LinAlgWarning\n",
    "from scipy.optimize._optimize import OptimizeWarning\n",
    "# from scipy.optimize import OptimizeWarning\n",
    "import warnings\n",
    "import numpy as np\n",
    "from functools import partial\n",
    "import random\n",
    "import pickle \n",
    "import json"
   ]
  },
  {
   "cell_type": "code",
   "execution_count": 2,
   "id": "ca5baa7a-a9fa-41b9-aa05-755f29c333b1",
   "metadata": {
    "tags": []
   },
   "outputs": [],
   "source": [
    "root = 'raw/'"
   ]
  },
  {
   "cell_type": "markdown",
   "id": "47db0a02",
   "metadata": {},
   "source": [
    "### Resource Allocation"
   ]
  },
  {
   "cell_type": "markdown",
   "id": "aa06ef7e",
   "metadata": {},
   "source": [
    "#### input: for one graph   \n",
    "#### G(V, E, c): random graph (strongly connected)\n",
    "#### (s, t, d) \\in [S, T, D]  \n",
    "#### for every (s, t, d), there is a set p \\in Pd (k-shortest path algorithm (4/5/6))"
   ]
  },
  {
   "cell_type": "code",
   "execution_count": 3,
   "id": "d823c29a",
   "metadata": {},
   "outputs": [],
   "source": [
    "import networkx as nx\n",
    "import matplotlib.pyplot as plt"
   ]
  },
  {
   "cell_type": "markdown",
   "id": "99c486ae",
   "metadata": {},
   "source": [
    "### generate and save connected and directed ASN different nodes and p"
   ]
  },
  {
   "cell_type": "code",
   "execution_count": 4,
   "id": "3dc4037c",
   "metadata": {},
   "outputs": [
    {
     "name": "stdout",
     "output_type": "stream",
     "text": [
      "Strongly connected: True\n",
      "# of nodes and edges: 12 38\n",
      "Weighted: False\n",
      "Strongly connected: True\n",
      "# of nodes and edges: 12 38\n",
      "Weighted: True\n"
     ]
    }
   ],
   "source": [
    "f = open(root+'b4_graph/B4.json')\n",
    "G = json.load(f)\n",
    "\n",
    "b4_graph = nx.DiGraph()\n",
    "b4_graph.add_nodes_from([i['id'] for i in G['nodes']])\n",
    "b4_graph.add_edges_from([(i['source'], i['target']) for i in G['links']])\n",
    "\n",
    "print('Strongly connected:', nx.is_strongly_connected(b4_graph))\n",
    "print('# of nodes and edges:', b4_graph.number_of_nodes(), b4_graph.number_of_edges())\n",
    "print('Weighted:', nx.is_weighted(b4_graph))\n",
    "\n",
    "b4_graph_weight = nx.DiGraph()\n",
    "b4_graph_weight.add_nodes_from([i['id'] for i in G['nodes']])\n",
    "for i in G['links']:\n",
    "    b4_graph_weight.add_edge(i['source'], i['target'], weight=i['capacity'])\n",
    "print('Strongly connected:', nx.is_strongly_connected(b4_graph_weight))\n",
    "print('# of nodes and edges:', b4_graph_weight.number_of_nodes(), b4_graph_weight.number_of_edges())\n",
    "print('Weighted:', nx.is_weighted(b4_graph_weight))\n",
    "\n",
    "# nx.draw(asn_graph, with_labels=True, node_color='lightgreen', arrows=True)"
   ]
  },
  {
   "cell_type": "code",
   "execution_count": 5,
   "id": "7a14e98c",
   "metadata": {},
   "outputs": [
    {
     "data": {
      "text/plain": [
       "(5000.0, 5000.0)"
      ]
     },
     "execution_count": 5,
     "metadata": {},
     "output_type": "execute_result"
    }
   ],
   "source": [
    "# check b4 link capacities\n",
    "cap = []\n",
    "for i in G['links']:\n",
    "    cap.append(i['capacity'])\n",
    "max(cap), min(cap)"
   ]
  },
  {
   "cell_type": "markdown",
   "id": "bd274435",
   "metadata": {},
   "source": [
    "### generate nodes for train/test"
   ]
  },
  {
   "cell_type": "code",
   "execution_count": 6,
   "id": "4a3b6a4d",
   "metadata": {},
   "outputs": [
    {
     "name": "stdout",
     "output_type": "stream",
     "text": [
      "Graph info 12 38\n",
      "Connected: True\n",
      "Weighted: False\n",
      "---------------------------------------\n",
      "Graph info 12 38\n",
      "Connected: True\n",
      "Weighted: False\n",
      "---------------------------------------\n"
     ]
    }
   ],
   "source": [
    "random.seed(2024)\n",
    "np.random.seed(2024)\n",
    "\n",
    "b4_graph_train = nx.DiGraph()\n",
    "b4_graph_train.add_nodes_from([i['id'] for i in G['nodes']])\n",
    "b4_graph_train.add_edges_from([(i['source'], i['target']) for i in G['links']])\n",
    "\n",
    "np.save(root+'b4_graph/train_'+str(b4_graph_train.number_of_nodes())+'_nodes', b4_graph_train)\n",
    "print('Graph info', b4_graph_train.number_of_nodes(), b4_graph_train.number_of_edges())\n",
    "print('Connected:', nx.is_strongly_connected(b4_graph_train))\n",
    "print('Weighted:', nx.is_weighted(b4_graph_train))\n",
    "print('---------------------------------------')\n",
    "\n",
    "b4_graph_test = nx.DiGraph()\n",
    "b4_graph_test.add_nodes_from([i['id'] for i in G['nodes']])\n",
    "b4_graph_test.add_edges_from([(i['source'], i['target']) for i in G['links']])\n",
    "\n",
    "np.save(root+'b4_graph/test_'+str(b4_graph_test.number_of_nodes())+'_nodes', b4_graph_test)\n",
    "print('Graph info', b4_graph_test.number_of_nodes(), b4_graph_test.number_of_edges())\n",
    "print('Connected:', nx.is_strongly_connected(b4_graph_test))\n",
    "print('Weighted:', nx.is_weighted(b4_graph_test))\n",
    "print('---------------------------------------')"
   ]
  },
  {
   "cell_type": "markdown",
   "id": "1c3ff32e",
   "metadata": {},
   "source": [
    "### generate k-shortest path"
   ]
  },
  {
   "cell_type": "code",
   "execution_count": 7,
   "id": "daa03ca4",
   "metadata": {},
   "outputs": [],
   "source": [
    "from itertools import islice\n",
    "def k_shortest_paths(G, source, target, k, weight=None):\n",
    "    return list(islice(nx.shortest_simple_paths(G, source, target, weight=weight), k))"
   ]
  },
  {
   "cell_type": "markdown",
   "id": "7c55f564",
   "metadata": {},
   "source": [
    "### function define"
   ]
  },
  {
   "cell_type": "code",
   "execution_count": 8,
   "id": "12ee2842",
   "metadata": {},
   "outputs": [],
   "source": [
    "# G: G(V, E, C)                           nx.weighted.graph\n",
    "# STD: demands align with ST pairs        list[([s1, t1], dmd1), ([s2, t2], dmd2),...], (string, int)\n",
    "# Pd: set of paths for every st pair      dict{[s1, t1]: [([path1], cost1), ([path2], cost2)...], [s2, t2]...}\n",
    "# # of std pairs = # of keys in Pd\n",
    "# k: k shortest path for every (s, t, d) tuple\n",
    "\n",
    "def generate_reallocation(G, STD, Pd, k):\n",
    "    \n",
    "    # constraint 1\n",
    "    A1 = []\n",
    "    for i in range(len(STD)):\n",
    "        a = np.zeros(len(STD)*k)\n",
    "        a[k*i: k*i+k] = 1\n",
    "        A1.append(a)\n",
    "    A1 = np.array(A1)\n",
    "    b1 = np.ones(len(STD))\n",
    "\n",
    "    # constrain 2\n",
    "    edges_list = list(G.edges())\n",
    "    A2 = np.zeros((G.number_of_edges(), len(STD)*k))\n",
    "\n",
    "    for i in range(len(STD)):\n",
    "        paths = Pd[tuple(STD[i][0])] # possible paths\n",
    "        for j in range(k):\n",
    "            p = paths[j]   # path[j] is the path\n",
    "            for n in range(len(p)-1):\n",
    "                if (p[n], p[n+1]) in edges_list:\n",
    "                    A2[edges_list.index((p[n], p[n+1]))][k*i+j] = STD[i][1]\n",
    "                else:\n",
    "                    continue  \n",
    "    b2 = np.array(list(nx.get_edge_attributes(G,'weight').values()))\n",
    "    zero_row_indices = np.where(A2.any(axis=1)==0)[0]\n",
    "    A2 = np.delete(A2, zero_row_indices, axis=0)\n",
    "    b2 = np.delete(b2, zero_row_indices, axis=0)\n",
    "\n",
    "    for i in range(A2.shape[0]):\n",
    "        A2[i] = A2[i]/b2[i]\n",
    "        b2[i] = b2[i]/b2[i]\n",
    "    \n",
    "    # obj\n",
    "    c = -1*np.concatenate([np.ones(k)*STD[i][1] for i in range(len(STD))])\n",
    "        \n",
    "    return A1, b1, A2, b2, c"
   ]
  },
  {
   "cell_type": "markdown",
   "id": "8b65985e",
   "metadata": {},
   "source": [
    "### Read all train and their capacities and load as a group"
   ]
  },
  {
   "cell_type": "code",
   "execution_count": 9,
   "id": "c1668727",
   "metadata": {},
   "outputs": [
    {
     "name": "stdout",
     "output_type": "stream",
     "text": [
      "Strongly connected: True\n",
      "# of nodes and edges: 12 38\n",
      "Weighted: True\n",
      "Strongly connected: True\n",
      "# of nodes and edges: 12 38\n",
      "Weighted: False\n",
      "------------------------\n"
     ]
    }
   ],
   "source": [
    "f = open(root+'b4_graph/B4.json')\n",
    "G = json.load(f)\n",
    "\n",
    "b4_graph = nx.DiGraph()\n",
    "b4_graph.add_nodes_from([i['id'] for i in G['nodes']])\n",
    "b4_graph.add_edges_from([(i['source'], i['target']) for i in G['links']])\n",
    "\n",
    "b4_graph_weight = nx.DiGraph()\n",
    "b4_graph_weight.add_nodes_from([i['id'] for i in G['nodes']])\n",
    "for i in G['links']:\n",
    "    b4_graph_weight.add_edge(i['source'], i['target'], weight=i['capacity'])\n",
    "\n",
    "    \n",
    "num_nodes = [12] # number of nodes for asn train\n",
    "\n",
    "train_group = []\n",
    "train_group_noC = []\n",
    "\n",
    "for n in num_nodes:\n",
    "    nodes = np.load(root+'b4_graph/train_' + str(n) + '_nodes.npy')\n",
    "    subgraph = b4_graph_weight.subgraph(nodes)\n",
    "    subgraph_noC = b4_graph.subgraph(nodes)\n",
    "    print('Strongly connected:', nx.is_strongly_connected(subgraph))\n",
    "    print('# of nodes and edges:', subgraph.number_of_nodes(), subgraph.number_of_edges())\n",
    "    print('Weighted:', nx.is_weighted(subgraph))\n",
    "    print('Strongly connected:', nx.is_strongly_connected(subgraph_noC))\n",
    "    print('# of nodes and edges:', subgraph_noC.number_of_nodes(), subgraph_noC.number_of_edges())\n",
    "    print('Weighted:', nx.is_weighted(subgraph_noC))\n",
    "    print('------------------------')\n",
    "    train_group.append(subgraph)\n",
    "    train_group_noC.append(subgraph_noC)"
   ]
  },
  {
   "cell_type": "markdown",
   "id": "836dccc3",
   "metadata": {},
   "source": [
    "### Read all test and their capacities and load as a group"
   ]
  },
  {
   "cell_type": "code",
   "execution_count": 10,
   "id": "1337aec5",
   "metadata": {},
   "outputs": [
    {
     "name": "stdout",
     "output_type": "stream",
     "text": [
      "Strongly connected: True\n",
      "# of nodes and edges: 12 38\n",
      "Weighted: True\n",
      "Strongly connected: True\n",
      "# of nodes and edges: 12 38\n",
      "Weighted: False\n",
      "------------------------\n"
     ]
    }
   ],
   "source": [
    "f = open(root+'b4_graph/B4.json')\n",
    "G = json.load(f)\n",
    "\n",
    "b4_graph = nx.DiGraph()\n",
    "b4_graph.add_nodes_from([i['id'] for i in G['nodes']])\n",
    "b4_graph.add_edges_from([(i['source'], i['target']) for i in G['links']])\n",
    "\n",
    "b4_graph_weight = nx.DiGraph()\n",
    "b4_graph_weight.add_nodes_from([i['id'] for i in G['nodes']])\n",
    "for i in G['links']:\n",
    "    b4_graph_weight.add_edge(i['source'], i['target'], weight=i['capacity'])\n",
    "\n",
    "    \n",
    "num_nodes = [12] # number of nodes for asn train\n",
    "\n",
    "test_group = []\n",
    "test_group_noC = []\n",
    "\n",
    "for n in num_nodes:\n",
    "    nodes = np.load(root+'b4_graph/test_' + str(n) + '_nodes.npy')\n",
    "    subgraph = b4_graph_weight.subgraph(nodes)\n",
    "    subgraph_noC = b4_graph.subgraph(nodes)\n",
    "    print('Strongly connected:', nx.is_strongly_connected(subgraph))\n",
    "    print('# of nodes and edges:', subgraph.number_of_nodes(), subgraph.number_of_edges())\n",
    "    print('Weighted:', nx.is_weighted(subgraph))\n",
    "    print('Strongly connected:', nx.is_strongly_connected(subgraph_noC))\n",
    "    print('# of nodes and edges:', subgraph_noC.number_of_nodes(), subgraph_noC.number_of_edges())\n",
    "    print('Weighted:', nx.is_weighted(subgraph_noC))\n",
    "    print('------------------------')\n",
    "    test_group.append(subgraph)\n",
    "    test_group_noC.append(subgraph_noC)"
   ]
  },
  {
   "cell_type": "markdown",
   "id": "f2ee24c4",
   "metadata": {},
   "source": [
    "## dataset generation"
   ]
  },
  {
   "cell_type": "code",
   "execution_count": 13,
   "id": "a4aa5938",
   "metadata": {},
   "outputs": [],
   "source": [
    "### gen train ####\n",
    "root = 'raw/'\n",
    "\n",
    "import time\n",
    "warnings.filterwarnings(\"error\")\n",
    "\n",
    "random.seed(2024)\n",
    "np.random.seed(2024)\n",
    "\n",
    "\n",
    "pkg_idx = 0              # instance index for your data generation\n",
    "success_cnt = 0\n",
    "fail_cnt = 0\n",
    "bounds = (0., 1.)\n",
    "\n",
    "max_iter = 15000\n",
    "num = 10                  # number of instance generated\n",
    "\n",
    "k = 4                    # k-shortest path\n",
    "max_d = 5000             # demand max value\n",
    "min_d = 1000             # demand min value\n",
    "\n",
    "number_of_st = 10        # number of st pairs\n",
    "\n",
    "data_t = 'train'         # 'train'/'test'\n",
    "\n",
    "if data_t == 'train': \n",
    "    group = train_group\n",
    "    group_noC = train_group_noC\n",
    "else:\n",
    "    group = test_group\n",
    "    group_noC = test_group_noC\n",
    "\n",
    "\n",
    "graph_info = []\n",
    "for g in range(len(group)):\n",
    "    stds = []\n",
    "    ips = []\n",
    "    success_cnt = 0\n",
    "    times = []\n",
    "    for n in range(num): # in case failsure case\n",
    "        \n",
    "        # generate st pairs with demand value \n",
    "        std = []\n",
    "        Pd = {}\n",
    "        count_std = 0\n",
    "        while count_std != number_of_st:\n",
    "            st = np.random.choice(group[g].nodes(), 2, replace=False)\n",
    "            d = random.uniform(min_d, max_d)\n",
    "            k_paths = k_shortest_paths(group_noC[g], st[0], st[1], k=k)\n",
    "            if len(k_paths) != k:\n",
    "                continue\n",
    "            else:\n",
    "                Pd[(st[0], st[1])] = k_paths\n",
    "                std.append((st, d))\n",
    "                count_std += 1\n",
    "\n",
    "        A1, b1, A2, b2, c = generate_reallocation(group[g], std, Pd, k)\n",
    "        A = np.vstack([A1, A2])\n",
    "        b = np.hstack([b1, b2])\n",
    "        \n",
    "        n_time = time.time()\n",
    "        try:\n",
    "            A_eq = None\n",
    "            b_eq = None\n",
    "            A_ub = A\n",
    "            b_ub = b\n",
    "            res = linprog(c, A_ub=A_ub, b_ub=b_ub, A_eq=A_eq, b_eq=b_eq, bounds=bounds, \n",
    "                          method='interior-point')\n",
    "            times.append(time.time()-n_time)\n",
    "            print(res)\n",
    "            \n",
    "        except (LinAlgWarning, OptimizeWarning, AssertionError):\n",
    "            fail_cnt += 1\n",
    "            continue\n",
    "        else:\n",
    "            if res.success and not np.isnan(res.fun):\n",
    "                ips.append((torch.from_numpy(A).to(torch.float), torch.from_numpy(b).to(torch.float), torch.from_numpy(c).to(torch.float)))\n",
    "                success_cnt += 1\n",
    "                stds.append(std)\n",
    "        if success_cnt == num:\n",
    "            break\n",
    "\n",
    "    with open(root+'/raw/instance_'+str(pkg_idx)+'_stds.pkl','wb') as f:\n",
    "        pickle.dump(stds, f)\n",
    "    with gzip.open(f'{root}/raw/instance_{pkg_idx}.pkl.gz', \"wb\") as file:\n",
    "        pickle.dump(ips, file)\n",
    "    pkg_idx += 1\n",
    "\n",
    "    graph_info.append((group[g].number_of_nodes(), group[g].number_of_edges(), sum(times)/len(times)))\n",
    "\n",
    "if data_t == 'train': \n",
    "    np.save(root+'/raw/b4_train_'+str(number_of_st)+'st_info', graph_info)\n",
    "    for i in graph_info:\n",
    "        print('Graph info and average time used:', i)\n",
    "else:\n",
    "    np.save(root+'/raw/b4_test_'+str(number_of_st)+'st_info', graph_info)\n",
    "    for i in graph_info:\n",
    "        print('Graph info and average time used:', i)\n",
    "    \n",
    "    \n",
    "warnings.resetwarnings()"
   ]
  },
  {
   "cell_type": "code",
   "execution_count": null,
   "id": "007e0e42",
   "metadata": {},
   "outputs": [],
   "source": []
  }
 ],
 "metadata": {
  "kernelspec": {
   "display_name": "ipmgnn",
   "language": "python",
   "name": "ipmgnn"
  },
  "language_info": {
   "codemirror_mode": {
    "name": "ipython",
    "version": 3
   },
   "file_extension": ".py",
   "mimetype": "text/x-python",
   "name": "python",
   "nbconvert_exporter": "python",
   "pygments_lexer": "ipython3",
   "version": "3.10.13"
  }
 },
 "nbformat": 4,
 "nbformat_minor": 5
}
