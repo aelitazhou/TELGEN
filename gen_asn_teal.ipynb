{
 "cells": [
  {
   "cell_type": "markdown",
   "id": "33c9a328",
   "metadata": {},
   "source": [
    "## migrate TELGEN data to TEAL"
   ]
  },
  {
   "cell_type": "code",
   "execution_count": 1,
   "id": "c613b1ca-4366-4c13-b0d4-47e581195d5b",
   "metadata": {
    "tags": []
   },
   "outputs": [],
   "source": [
    "from solver.linprog import linprog\n",
    "from tqdm import tqdm\n",
    "\n",
    "import gzip\n",
    "import pickle\n",
    "import torch\n",
    "from scipy.linalg import LinAlgWarning\n",
    "from scipy.optimize._optimize import OptimizeWarning\n",
    "import warnings\n",
    "import numpy as np\n",
    "from functools import partial\n",
    "import random\n",
    "import pickle "
   ]
  },
  {
   "cell_type": "markdown",
   "id": "47db0a02",
   "metadata": {},
   "source": [
    "### Resource Allocation"
   ]
  },
  {
   "cell_type": "markdown",
   "id": "aa06ef7e",
   "metadata": {},
   "source": [
    "#### input: for one graph   \n",
    "#### G(V, E, c): random graph (strongly connected)\n",
    "#### (s, t, d) \\in [S, T, D]  \n",
    "#### for every (s, t, d), there is a set p \\in Pd (k-shortest path algorithm (4/5/6))"
   ]
  },
  {
   "cell_type": "code",
   "execution_count": 2,
   "id": "d823c29a",
   "metadata": {},
   "outputs": [],
   "source": [
    "import networkx as nx\n",
    "import matplotlib.pyplot as plt"
   ]
  },
  {
   "cell_type": "markdown",
   "id": "e2808009",
   "metadata": {},
   "source": [
    "## teal pickle for traffic matrix"
   ]
  },
  {
   "cell_type": "code",
   "execution_count": 3,
   "id": "2cff5a2a",
   "metadata": {},
   "outputs": [],
   "source": [
    "# the data should be put into the TEAL codebase to run\n",
    "root = 'home/user/TEAL/'"
   ]
  },
  {
   "cell_type": "code",
   "execution_count": 4,
   "id": "e63f9a13",
   "metadata": {},
   "outputs": [],
   "source": [
    "##### gen teal pickle file for traffic matrix #####\n",
    "# Specify the path to your pkl.gz file ins 0\n",
    "# teal_harp_migrate: save the raw generated for teal and harp to migrate\n",
    "\n",
    "from collections import defaultdict\n",
    "\n",
    "ins_num = [0]\n",
    "\n",
    "num_nodes = [1739] \n",
    "\n",
    "for ins in range(len(ins_num)):\n",
    "    file_path = 'raw/raw/teal_harp_migrate/instance_' + str(ins_num[ins]) + '_stds.pkl'\n",
    "\n",
    "    # Open the file in binary mode and use gzip to decompress it\n",
    "    with open(file_path, 'rb') as f:\n",
    "        # Load the pickled data\n",
    "        data = pickle.load(f)\n",
    "    print('orin data len:', len(data))\n",
    "\n",
    "    matrices = np.zeros((len(data), num_nodes[ins], num_nodes[ins]))\n",
    "    for i in range(len(data)): \n",
    "        for j in range(len(data[i])):\n",
    "            matrices[i][int(data[i][j][0][0])][int(data[i][j][0][1])] = data[i][j][1]\n",
    "\n",
    "    for n in range(len(data)):\n",
    "        with open(root+'traffic-matrices/ASN1739/ASN'+str(num_nodes[ins])+'.json_ASN_'+ str(n) + '_1.0_traffic-matrix.pkl','wb') as f:\n",
    "            pickle.dump(matrices[n], f)"
   ]
  },
  {
   "cell_type": "code",
   "execution_count": 5,
   "id": "56a3d6c0",
   "metadata": {},
   "outputs": [],
   "source": [
    "import json\n",
    "\n",
    "f = open('raw/asn_graph/ASN2k.json')\n",
    "G = json.load(f)\n",
    "\n",
    "asn_graph = nx.DiGraph()\n",
    "asn_graph.add_nodes_from([i['id'] for i in G['nodes']])\n",
    "asn_graph.add_edges_from([(i['source'], i['target']) for i in G['links']])\n",
    "\n",
    "print('Strongly connected:', nx.is_strongly_connected(asn_graph))\n",
    "print('# of nodes and edges:', asn_graph.number_of_nodes(), asn_graph.number_of_edges())\n",
    "print('Weighted:', nx.is_weighted(asn_graph))\n",
    "\n",
    "asn_graph_weight = nx.DiGraph()\n",
    "asn_graph_weight.add_nodes_from([i['id'] for i in G['nodes']])\n",
    "for i in G['links']:\n",
    "    asn_graph_weight.add_edge(i['source'], i['target'], weight=i['capacity'])\n",
    "print('Strongly connected:', nx.is_strongly_connected(asn_graph_weight))\n",
    "print('# of nodes and edges:', asn_graph_weight.number_of_nodes(), asn_graph_weight.number_of_edges())\n",
    "print('Weighted:', nx.is_weighted(asn_graph_weight))\n",
    "\n",
    "# nx.draw(asn_graph, with_labels=True, node_color='lightgreen', arrows=True)"
   ]
  },
  {
   "cell_type": "markdown",
   "id": "00e8486b",
   "metadata": {},
   "source": [
    "## teal pickle for path dic"
   ]
  },
  {
   "cell_type": "code",
   "execution_count": 6,
   "id": "212f83c2",
   "metadata": {},
   "outputs": [],
   "source": [
    "from itertools import islice\n",
    "def k_shortest_paths(G, source, target, k, weight=None):\n",
    "    return list(islice(nx.shortest_simple_paths(G, source, target, weight=weight), k))\n",
    "\n",
    "import json\n",
    "num_nodes = [1739] \n",
    "\n",
    "k = 4\n",
    "Pd = {}\n",
    "for i in asn_graph.nodes():\n",
    "    for j in asn_graph.nodes():\n",
    "        if i == j:\n",
    "            continue\n",
    "        else:\n",
    "            k_paths = k_shortest_paths(asn_graph, i, j, k=k)\n",
    "            Pd[(i, j)] = k_paths\n",
    "with open(root+'traffic-matrices/ASN1739/ASN'+str(num_nodes[0])+'.json-'+str(k)+'-paths_edge-disjoint-True_dist-metric-min-hop-dict.pkl','wb') as f:\n",
    "    pickle.dump(Pd, f)"
   ]
  },
  {
   "cell_type": "code",
   "execution_count": null,
   "id": "639e86d8",
   "metadata": {},
   "outputs": [],
   "source": []
  }
 ],
 "metadata": {
  "kernelspec": {
   "display_name": "ipmgnn",
   "language": "python",
   "name": "ipmgnn"
  },
  "language_info": {
   "codemirror_mode": {
    "name": "ipython",
    "version": 3
   },
   "file_extension": ".py",
   "mimetype": "text/x-python",
   "name": "python",
   "nbconvert_exporter": "python",
   "pygments_lexer": "ipython3",
   "version": "3.10.13"
  }
 },
 "nbformat": 4,
 "nbformat_minor": 5
}
